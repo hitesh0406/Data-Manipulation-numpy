{
 "cells": [
  {
   "cell_type": "code",
   "execution_count": null,
   "id": "62075f46-c54b-4e15-8b49-f981f6f2ae28",
   "metadata": {},
   "outputs": [],
   "source": [
    "# Data Manipulation\n",
    "#Use broadcasting to normalize a 2D numpy array row-wise."
   ]
  },
  {
   "cell_type": "code",
   "execution_count": 1,
   "id": "ee0c0378-0fbe-42cf-83a8-dd02b62fadd5",
   "metadata": {},
   "outputs": [
    {
     "name": "stdout",
     "output_type": "stream",
     "text": [
      "Original Array:\n",
      " [[1 2 3]\n",
      " [4 5 6]\n",
      " [7 8 9]]\n",
      "\n",
      "Row-wise Normalized Array (by sum):\n",
      " [[0.16666667 0.33333333 0.5       ]\n",
      " [0.26666667 0.33333333 0.4       ]\n",
      " [0.29166667 0.33333333 0.375     ]]\n"
     ]
    }
   ],
   "source": [
    "import numpy as np\n",
    "\n",
    "array = np.array([[1, 2, 3], \n",
    "                  [4, 5, 6], \n",
    "                  [7, 8, 9]])\n",
    "\n",
    "row_sums = array.sum(axis=1, keepdims=True)\n",
    "\n",
    "normalized_array = array / row_sums\n",
    "\n",
    "print(\"Original Array:\\n\", array)\n",
    "print(\"\\nRow-wise Normalized Array (by sum):\\n\", normalized_array)\n"
   ]
  },
  {
   "cell_type": "code",
   "execution_count": 2,
   "id": "aca7ae0a-3bbc-4640-89ec-0145de23671c",
   "metadata": {},
   "outputs": [
    {
     "name": "stdout",
     "output_type": "stream",
     "text": [
      "\n",
      "Row-wise Normalized Array (by L2 norm):\n",
      " [[0.26726124 0.53452248 0.80178373]\n",
      " [0.45584231 0.56980288 0.68376346]\n",
      " [0.50257071 0.57436653 0.64616234]]\n"
     ]
    }
   ],
   "source": [
    "## Normalizing by eucliedian norm \n",
    "row_norms = np.linalg.norm(array, axis=1, keepdims=True)\n",
    "\n",
    "normalized_by_norm = array / row_norms\n",
    "\n",
    "print(\"\\nRow-wise Normalized Array (by L2 norm):\\n\", normalized_by_norm)\n"
   ]
  },
  {
   "cell_type": "code",
   "execution_count": null,
   "id": "1f69ffe1-6648-4ff6-91ec-167d08ddcfd4",
   "metadata": {},
   "outputs": [],
   "source": []
  }
 ],
 "metadata": {
  "kernelspec": {
   "display_name": "Python 3 (ipykernel)",
   "language": "python",
   "name": "python3"
  },
  "language_info": {
   "codemirror_mode": {
    "name": "ipython",
    "version": 3
   },
   "file_extension": ".py",
   "mimetype": "text/x-python",
   "name": "python",
   "nbconvert_exporter": "python",
   "pygments_lexer": "ipython3",
   "version": "3.12.4"
  }
 },
 "nbformat": 4,
 "nbformat_minor": 5
}
